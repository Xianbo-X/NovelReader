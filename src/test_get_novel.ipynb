{
 "cells": [
  {
   "cell_type": "code",
   "execution_count": 1,
   "metadata": {},
   "outputs": [],
   "source": [
    "from bs4 import BeautifulSoup\n",
    "import requests\n",
    "import re\n",
    "import json\n",
    "import urllib\n",
    "import logging\n",
    "from dataclasses import dataclass\n",
    "from collections import Counter"
   ]
  },
  {
   "cell_type": "code",
   "execution_count": 2,
   "metadata": {},
   "outputs": [],
   "source": [
    "logging.basicConfig(level=logging.DEBUG)"
   ]
  },
  {
   "cell_type": "code",
   "execution_count": 3,
   "metadata": {},
   "outputs": [],
   "source": [
    "@dataclass\n",
    "class CODE:\n",
    "    SUCCESS:int=200"
   ]
  },
  {
   "cell_type": "code",
   "execution_count": 20,
   "metadata": {},
   "outputs": [],
   "source": [
    "class Novel:\n",
    "    def __init__(self,name,url) -> None:\n",
    "        self.name=name\n",
    "        self.url=url\n",
    "        parse_res=urllib.parse.urlparse(self.url)\n",
    "        self.domain=parse_res.scheme+\"://\"+parse_res.netloc\n",
    "        self.Update()\n",
    "        #TODO: async update\n",
    "\n",
    "    def Update(self):\n",
    "        raw_result=requests.get(self.url)\n",
    "        if raw_result.status_code==CODE.SUCCESS:\n",
    "            self.content=BeautifulSoup(raw_result.content)\n",
    "        self.contentTable=self.GetContentTable()\n",
    "\n",
    "    def GetContentTable(self):\n",
    "        res=self.content.find_all(\"dd\")\n",
    "        counter=Counter(res)\n",
    "        while(counter[res[0]]>1): # Remove duplicate newest chapters\n",
    "            res.pop(0)\n",
    "        res=list(map(lambda x:{\"name\":x.a.contents[0].strip(),\"url\": urllib.parse.urljoin(self.domain,x.a.attrs.get(\"href\"))},res))\n",
    "        return res\n",
    "    def GetChapterRecord(self,idx):\n",
    "        return self.contentTable[idx]\n",
    "    def GetChapterPlain(self,idx):\n",
    "        url=self.GetChapterRecord(idx)[\"url\"]\n",
    "        raw_res=requests.get(url)\n",
    "        if raw_res.status_code==CODE.SUCCESS:\n",
    "            raw_content=BeautifulSoup(raw_res.content)\n",
    "        raw_page_content=raw_content.find_all(\"div\",{\"id\":\"content\"})[0].find_all(\"p\")\n",
    "        raw_page_content_plain=map(lambda x:x.contents[0].strip(),raw_page_content)\n",
    "        raw_page_content_plain=map(lambda x:x.replace(\"一秒记住www.9biqu.com\",\"\").strip(),raw_page_content_plain)\n",
    "        raw_page_content_plain=map(lambda x:x.replace(\"首发尽在www.9biqu。com\",\"\").strip(),raw_page_content_plain)\n",
    "        raw_page_content_plain=map(lambda x:x.replace(\"看小说上www,9biqu.com\",\"\").strip(),raw_page_content_plain)\n",
    "        raw_page_content_filtered=list(filter(lambda x: not \"天才一秒记住本站地址\" in x.strip(),raw_page_content_plain))\n",
    "        return raw_page_content_filtered"
   ]
  },
  {
   "cell_type": "code",
   "execution_count": 21,
   "metadata": {},
   "outputs": [],
   "source": [
    "class NovelWebsite:\n",
    "    def __init__(self,domain) -> None:\n",
    "        self.domain=domain\n",
    "    \n",
    "    def search_url(self,keyword):\n",
    "        return urllib.parse.urljoin(self.domain,f\"search?keyword={urllib.parse.quote(keyword)}\")\n",
    "    \n",
    "    def search_raw(self,keyword):\n",
    "        data=requests.get(self.search_url(keyword))\n",
    "        return data\n",
    "    def join(self,url):\n",
    "        return urllib.parse.urljoin(self.domain,url)\n",
    "\n",
    "    def search_result(self,keyword):\n",
    "        result=self.search_raw(keyword)\n",
    "        logging.debug(\"STATUS_CODE: \"+str(result.status_code))\n",
    "        if result.status_code==CODE.SUCCESS:\n",
    "            raw_page=BeautifulSoup(result.content)\n",
    "            data=raw_page.find(\"div\",{\"id\":\"main\"})\n",
    "            return [{\"name\":data.a.contents[0].strip(),\"url\":self.join(data.a.attrs.get(\"href\"))}]\n",
    "    def GetNovel(self,keyword):\n",
    "        books=self.search_result(\"灵境行者\")\n",
    "        novel=Novel(**books[0])\n",
    "        return novel\n"
   ]
  },
  {
   "cell_type": "code",
   "execution_count": 22,
   "metadata": {},
   "outputs": [],
   "source": [
    "# urllib.parse.urlparse(novel.url).netloc"
   ]
  },
  {
   "cell_type": "code",
   "execution_count": 23,
   "metadata": {},
   "outputs": [
    {
     "name": "stderr",
     "output_type": "stream",
     "text": [
      "DEBUG:urllib3.connectionpool:Starting new HTTPS connection (1): www.9biqu.com:443\n",
      "DEBUG:urllib3.connectionpool:https://www.9biqu.com:443 \"GET /search?keyword=%E7%81%B5%E5%A2%83%E8%A1%8C%E8%80%85 HTTP/1.1\" 200 None\n",
      "DEBUG:root:STATUS_CODE: 200\n",
      "DEBUG:urllib3.connectionpool:Starting new HTTPS connection (1): www.9biqu.com:443\n",
      "DEBUG:urllib3.connectionpool:https://www.9biqu.com:443 \"GET /biquge/6027/ HTTP/1.1\" 200 None\n"
     ]
    }
   ],
   "source": [
    "biquge=NovelWebsite(\"https://www.9biqu.com/\")\n",
    "novel=biquge.GetNovel(\"灵境行者\")"
   ]
  },
  {
   "cell_type": "code",
   "execution_count": 27,
   "metadata": {},
   "outputs": [
    {
     "name": "stderr",
     "output_type": "stream",
     "text": [
      "DEBUG:urllib3.connectionpool:Starting new HTTPS connection (1): www.9biqu.com:443\n",
      "DEBUG:urllib3.connectionpool:https://www.9biqu.com:443 \"GET /biquge/6027/15056957.html HTTP/1.1\" 200 None\n"
     ]
    },
    {
     "data": {
      "text/plain": [
       "['艹.....张元清突然不想在主殿待下去了。',\n",
       " '他有种身处绝境，叫天天不应，叫地地不灵的惶恐。',\n",
       " '此处极端危险，可他却无法向外界求助，能依靠的只有自己。',\n",
       " '犹豫再三，他牙一咬心一横，俯身把裹着工服的骷髅拉了出来。',\n",
       " '哧拉～',\n",
       " '拉扯过程中，劳保服被轻易撕裂，过去那么多年，衣服早就朽烂。',\n",
       " '把尸体拖到烛光下，他忍着不适，开始检查起来。',\n",
       " '人虽然死了，但身体会说话，弄清楚对方的死因，能帮自己规避很多危险。',\n",
       " '“胸骨和肋骨断了几根，右肩有细密的裂纹，但不算严重.......”',\n",
       " '死者生前遭受过重创，但具体的死因，由于年代过于久远，看不出来。',\n",
       " '接着，张元清又从工人前辈的口袋里，找到了几张发黄发脆的纸，很有些年头了。',\n",
       " '纸上用楷体写着蝇头小字。',\n",
       " '张元清心里一喜，纸张明显是工人前辈在庙里找到的，这有助于他了解这座古庙的情况。',\n",
       " '借助烛光，他凝神阅读起纸张上的内容。',\n",
       " '“昨晚又有一位师弟失踪，这已经是庙里第三个离奇失踪的同门。。师兄弟们说，三道山闹了鬼，亦或者来了道行高深的妖精，每夜都要来庙里抓人吃，但庙里的诸多弟子修为伴身，师父更是方圆百里之内名声赫赫的真人，哪路妖精不开眼，敢来此处觅食。',\n",
       " '“至于鬼怪，我的镇尸符和唤灵符足以解决，都不用劳烦师父。我心里有不好的预感，得去寻大师兄合计合计..........”',\n",
       " '“今天又有一人失踪，这是第五人，师父让我们瞒着香客，不然会影响庙里的香火，他一定知道些什么。我和大师兄打算夜里巡逻.........”',\n",
       " '“三天过去了，期间又有三人失踪，可我和大师兄没有发现端倪，夜晚风平浪静。我心里不详的预感更深了........”',\n",
       " '“大师兄今天很奇怪，他似乎发现了什么，显得非常愤怒，我询问他，可他没有告诉我。他情绪不太好，我还是明天再询问吧。”',\n",
       " '“今天失踪的人是........大师兄，我找遍了整个三道山也没发现他，我，我受不了了，我要去找师父问个清楚，庙里的师兄弟们也支持我，因为他们也很害怕......”',\n",
       " '这段话的字迹有些潦草，可见笔记的主人心态有些崩溃了。',\n",
       " '张元清继续往下看：',\n",
       " '“经过我的一番追问，师父终于答应告诉我真相，我的预感没错，他果然知道师弟们离奇失踪的原因。但师父说，白日里人多嘴杂，太阳落山后他会来房间找我，告诉我一桩天大的秘密，这个秘密关系到数千年来的兴衰。”',\n",
       " '“用完晚膳，我便在房间里等待着，等待日落，自从夜里有人失踪后，我从未有一天如此期待过天黑........”',\n",
       " '纸张记录的内容到此为止。',\n",
       " '没了？这断章让人有点难受啊......张元清一阵龇牙咧嘴。',\n",
       " '他梳理了一下纸张里的信息，在某一年间，这座山神庙的弟子接二连三的诡异消失。',\n",
       " '弟子们束手无策，恐慌的情绪蔓延。而这件事，庙里的庙祝，也就是他们师父，似乎知道原因。',\n",
       " '这个原因关乎着一個数千年兴衰的大秘密。',\n",
       " '“山神庙衰败的原因未知，探索出这个源头，是不是就能完成第二个主线任务？”张元清作出猜测。',\n",
       " '他把发脆的纸张放回尸骸的劳保服里，把对方推回桌底，来个眼不见为净，接着思考起自己下一步要做什么。',\n",
       " '“主殿信息就这么多，既然要探索古庙，肯定就得出去，这样的话，就必须直面庙里的危险......”',\n",
       " '“在佘灵隧道的怪谈里，是有一位工人成功活下来的，循着他的轨迹，说不定能找出活下来的办法。”',\n",
       " '深思熟虑后，张元清走到主殿门口，打开了两扇保存尚好的格子门。',\n",
       " '“吱~”',\n",
       " '木制门轴发出让人牙酸的声响。',\n",
       " '他撑着门框，探出脑袋左顾右盼，外面寂寂无声，除了有些荒凉阴森，没看到危险。',\n",
       " '观察了一阵后，他踏出门槛，沿着主殿左侧的鹅软石小道，朝着山神庙后院走去。',\n",
       " '月华如水，荒草起伏，张元清走了一两分钟，前方出现一片建筑。',\n",
       " '那是几座相连的平房，形成一个面积极大的四合院，黑瓦白墙，一字型的屋脊，檐下是格子窗和格子门。',\n",
       " '一扇扇格子门灰扑扑的，或开或倒或紧闭，用来糊窗的纸在岁月的侵蚀下，破破烂烂。',\n",
       " '月光皎皎，如地凝霜，他借着月华扫了一眼山神庙后院的格局。',\n",
       " '除了眼前的四合院，东侧还有一个拱形的门，有点像影视剧里大户人家的后宅，都会有这么一座拱形门用来连接不同的院子。',\n",
       " '隔壁那个院子里种了一个参天大树，枝叶茂盛，树枝虬结。',\n",
       " '“咦.....”',\n",
       " '他在荒草起伏的院子里，发现了几具裹着劳保服的骷髅。',\n",
       " '小心的靠拢过去，仔细检查了一番，每一具骷髅的损坏严重，劳保服下是一截截断骨，但除了主殿那具，这里的骷髅肩骨保存完好，没有裂缝。',\n",
       " '“这些人死前都遭受了可怕的重创，死的很惨......”',\n",
       " '一阵风吹来，枝叶“沙沙”作响，隐约间，张元清听见风带过来的“沙沙”声里，夹杂着如泣如诉的低语：',\n",
       " '“救命，救命......”',\n",
       " '在这荒败死寂的夜里，张元清后背沁出了冷汗。',\n",
       " '他浑身僵硬的站在原地，好一会儿，风停了，哀泣的低语也随风而止。',\n",
       " '隔壁那座院子好像有点危险啊，不过里头的东西没有过来.......他无声吐出一口气，踏着满院的荒草，走入屋檐，打算探索这座四合院。',\n",
       " '这里似乎是庙中弟子生活的地方，堆积着破旧的，布满灰尘的家具，空气中弥漫着淡淡的、腐朽的气息。',\n",
       " '张元清挨个的探索房间，没有什么特别的发现，直到推开最东边的那扇格子门。',\n",
       " '“咯吱~”',\n",
       " '尘封不知多少岁月的房门再次被推开，灰尘簌簌掉落，张元清拍了拍落在肩膀的灰尘，目光戒备的扫过房间每一个角落。',\n",
       " '在这间荒废多年的房间里，窗边的位置，有一具尸体靠着墙，歪斜的躺在那里。',\n",
       " '从服饰和滚落的矿工帽可以推断出，又是一位前辈。',\n",
       " '跨过门槛，进入房间，张元清打了个哆嗦，莫名的觉得周围的温度似乎下降许多。',\n",
       " '“有点冷......”',\n",
       " '他谨慎的靠向那具尸体，解开破烂的衣衫，照例观察了一下尸体骨骼情况，这一次，他没有看到碎裂的骨骼，这具骷髅保存完好。',\n",
       " '可当他把目光投向尸骸的肩骨，瞳孔一凝，在这具尸骸的肩骨上，有着夸张的裂缝。',\n",
       " '这和主殿那具尸体肩膀的裂纹一样，区别在于眼前这具尸骸受到的伤更重。',\n",
       " '“只有屋子里这具和主殿那具肩骨碎裂，是巧合吗？”他有些不安的自语。',\n",
       " '接着，张元清发现尸体的裤兜鼓胀胀的，似乎藏着什么东西。',\n",
       " '伸手掏了掏，从死者裤兜里掏出一本泛黄的古册，一面灰扑扑的铜镜，一张黄纸符。',\n",
       " '黄纸符上用朱砂画着扭曲的纹路，有点类似符文，这些纹路共同汇聚成一个神似繁体的“尸”字。',\n",
       " '正审视着黄纸符，张元清眼前浮现一条荧蓝色的信息：',\n",
       " '【名称：镇尸符】',\n",
       " '【类型：消耗品】',\n",
       " '【功能：镇尸】',\n",
       " '【介绍：强大的夜游神制造的符箓，是一切尸类阴物的克星。把它贴在阴物的额头就能完成封印。】',\n",
       " '【备注：它只能使用一次。】',\n",
       " '荧蓝色的信息有点像他的属性面板，显而易见，这是“灵境”给出的提示。',\n",
       " '张元清进入诡异的古庙以来，还是第一次看到这种提示。',\n",
       " '“应该是重要的物品。”张元清把它折叠好，收进冲锋衣的口袋里，拉上拉链。',\n",
       " '想了想，又把拉链重新打开。',\n",
       " '因为他想起了一部武侠小说里的梗，某个剑术高超的剑客，喜欢用布条裹着剑背在身上。',\n",
       " '有一天，一位挑战者在剑客吃饭的时候，向他发起挑战。',\n",
       " '然后剑客就无了。',\n",
       " '死因是布条拆开不便......',\n",
       " '张元清接着拿起古册和铜镜，没有浮现相关的信息。',\n",
       " '他先把铜镜放在一旁，小心翼翼的翻开页脚卷起，发黄易脆的册子。',\n",
       " '上面写道：',\n",
       " '“拜入三道山娘娘庙已经两年半了，我已经学会识字和书写，大师兄说，等师父超度亡魂回山，就可以正式引我入门，修行吞月养魂术。这是成为夜游神的入门之法。”',\n",
       " '“燕王叛乱，狼烟四起，师父身为松府夜游神一脉的最强之人，不得不下山超度亡者，否则战事未定，阴祸再起，百姓就更加不得安宁......”',\n",
       " '张元清觉得肩膀有些酸疼，揉了揉，初步判断，这是一本随笔，也就是日记。',\n",
       " '日记的内容都是‘作者’在庙中修行、生活的经历，根据字迹，这本日记和主殿尸骸身上的纸张，同出一源。',\n",
       " '通过“燕王叛乱”之类的字眼，时间线是靖难之役那段历史。',\n",
       " '但他不确定这座庙是否真的存在于历史中，因为随笔里的内容写着“修行”“夜游神”“吐纳术”“符箓”等不明觉厉的词。',\n",
       " '张元清活动了一下发酸的肩膀，警惕的扫一眼房间，倾听屋外动静，确定没有异常后，继续阅读随笔。',\n",
       " '很快，他翻到了主殿内容的后续，前头几页被撕掉了，后续内容写着：',\n",
       " '“日落，天终于黑了，我听见了敲门声，兴匆匆的打开门，门外站着的不是师父，而是昨夜失踪的大师兄。”',\n",
       " '“失踪一天一夜的大师兄回来了，但我没有任何喜悦，因为......他已经死了，回来的是一具尸体。他的胸口鲜血淋漓，心脏不知道被谁挖走。”',\n",
       " '“大师兄直勾勾的盯着我，他说：不要相信师父.......”',\n",
       " '这几段字，写的歪歪扭扭，可以想象，随笔的主人写这段内容的时候，心态是炸裂的。',\n",
       " '张元清再翻下一页时，发现笔记没有后续了，日记的主人再也没有写过日记。',\n",
       " '“嘶........不要相信师父是什么意思？”',\n",
       " '张元清被这个反转惊的心里发寒。',\n",
       " '是庙祝杀死了那位大师兄？弟子们接二连三失踪的罪魁祸首也是他？张元清揉了揉肩膀，把册子放回了尸体的口袋里，接着，拿起铜镜，正要离开。',\n",
       " '可当他眼角余光，无意间瞥了一眼铜镜，身躯陡然僵硬。',\n",
       " '月光如水，投射在镜面，铜镜里映出了他的模样，而在他背上，趴着一个人。',\n",
       " '那人脸色惨白，嘴唇深紫，有着一双白瞳，脑袋侧着枕在张元清肩上，那双白瞳，死寂的盯着他。',\n",
       " '........',\n",
       " 'ps：这本书有灵异元素，但不是主打灵异，不喜欢灵异的读者可以放心。']"
      ]
     },
     "execution_count": 27,
     "metadata": {},
     "output_type": "execute_result"
    }
   ],
   "source": [
    "novel.GetChapterPlain(5)"
   ]
  }
 ],
 "metadata": {
  "kernelspec": {
   "display_name": "Python 3.9.5 ('base')",
   "language": "python",
   "name": "python3"
  },
  "language_info": {
   "codemirror_mode": {
    "name": "ipython",
    "version": 3
   },
   "file_extension": ".py",
   "mimetype": "text/x-python",
   "name": "python",
   "nbconvert_exporter": "python",
   "pygments_lexer": "ipython3",
   "version": "3.9.5"
  },
  "orig_nbformat": 4,
  "vscode": {
   "interpreter": {
    "hash": "1a26ff81baee3945bddb7944f70854e7c792d5b23b0b88a598fb392c55bb35d0"
   }
  }
 },
 "nbformat": 4,
 "nbformat_minor": 2
}
