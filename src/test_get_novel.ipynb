{
 "cells": [
  {
   "cell_type": "code",
   "execution_count": 88,
   "metadata": {},
   "outputs": [],
   "source": [
    "from bs4 import BeautifulSoup\n",
    "import requests\n",
    "import re\n",
    "import json\n",
    "import urllib\n",
    "import logging\n",
    "from dataclasses import dataclass\n",
    "from collections import Counter"
   ]
  },
  {
   "cell_type": "code",
   "execution_count": 91,
   "metadata": {},
   "outputs": [],
   "source": [
    "logging.basicConfig(level=logging.DEBUG)"
   ]
  },
  {
   "cell_type": "code",
   "execution_count": 92,
   "metadata": {},
   "outputs": [],
   "source": [
    "@dataclass\n",
    "class CODE:\n",
    "    SUCCESS:int=200"
   ]
  },
  {
   "cell_type": "code",
   "execution_count": 93,
   "metadata": {},
   "outputs": [],
   "source": [
    "class NovelWebsite:\n",
    "    def __init__(self,domain) -> None:\n",
    "        self.domain=domain\n",
    "    \n",
    "    def search_url(self,keyword):\n",
    "        return urllib.parse.urljoin(self.domain,f\"search?keyword={urllib.parse.quote(keyword)}\")\n",
    "    \n",
    "    def search_raw(self,keyword):\n",
    "        data=requests.get(self.search_url(keyword))\n",
    "        return data\n",
    "    def join(self,url):\n",
    "        return urllib.parse.urljoin(self.domain,url)\n",
    "\n",
    "    def search_result(self,keyword):\n",
    "        result=self.search_raw(keyword)\n",
    "        logging.debug(\"STATUS_CODE: \"+str(result.status_code))\n",
    "        if result.status_code==CODE.SUCCESS:\n",
    "            raw_page=BeautifulSoup(result.content)\n",
    "            data=raw_page.find(\"div\",{\"id\":\"main\"})\n",
    "            return [{\"name\":data.a.contents[0].strip(),\"url\":self.join(data.a.attrs.get(\"href\"))}]\n"
   ]
  },
  {
   "cell_type": "code",
   "execution_count": 136,
   "metadata": {},
   "outputs": [
    {
     "data": {
      "text/plain": [
       "ParseResult(scheme='https', netloc='www.9biqu.com', path='/biquge/6027/', params='', query='', fragment='')"
      ]
     },
     "execution_count": 136,
     "metadata": {},
     "output_type": "execute_result"
    }
   ],
   "source": [
    "urllib.parse.urlparse(novel.url).netloc"
   ]
  },
  {
   "cell_type": "code",
   "execution_count": 190,
   "metadata": {},
   "outputs": [],
   "source": [
    "class Novel:\n",
    "    def __init__(self,name,url) -> None:\n",
    "        self.name=name\n",
    "        self.url=url\n",
    "        parse_res=urllib.parse.urlparse(self.url)\n",
    "        self.domain=parse_res.scheme+\"://\"+parse_res.netloc\n",
    "        self.Update()\n",
    "        #TODO: async update\n",
    "\n",
    "    def Update(self):\n",
    "        raw_result=requests.get(self.url)\n",
    "        if raw_result.status_code==CODE.SUCCESS:\n",
    "            self.content=BeautifulSoup(raw_result.content)\n",
    "        self.contentTable=self.GetContentTable()\n",
    "\n",
    "    def GetContentTable(self):\n",
    "        res=self.content.find_all(\"dd\")\n",
    "        counter=Counter(res)\n",
    "        while(counter[res[0]]>1): # Remove duplicate newest chapters\n",
    "            res.pop(0)\n",
    "        res=list(map(lambda x:{\"name\":x.a.contents[0].strip(),\"url\": urllib.parse.urljoin(self.domain,x.a.attrs.get(\"href\"))},res))\n",
    "        return res\n",
    "    def GetChapter(self,idx):\n",
    "        return self.contentTable[idx]"
   ]
  },
  {
   "cell_type": "code",
   "execution_count": 191,
   "metadata": {},
   "outputs": [
    {
     "name": "stderr",
     "output_type": "stream",
     "text": [
      "DEBUG:urllib3.connectionpool:Starting new HTTPS connection (1): www.9biqu.com:443\n",
      "DEBUG:urllib3.connectionpool:https://www.9biqu.com:443 \"GET /search?keyword=%E7%81%B5%E5%A2%83%E8%A1%8C%E8%80%85 HTTP/1.1\" 200 None\n",
      "DEBUG:root:STATUS_CODE: 200\n",
      "DEBUG:urllib3.connectionpool:Starting new HTTPS connection (1): www.9biqu.com:443\n",
      "DEBUG:urllib3.connectionpool:https://www.9biqu.com:443 \"GET /biquge/6027/ HTTP/1.1\" 200 None\n"
     ]
    }
   ],
   "source": [
    "biquge=NovelWebsite(\"https://www.9biqu.com/\")\n",
    "books=biquge.search_result(\"灵境行者\")\n",
    "novel=Novel(**books[0])\n",
    "# contentTable=novel.GetContentTable()"
   ]
  },
  {
   "cell_type": "code",
   "execution_count": 193,
   "metadata": {},
   "outputs": [
    {
     "name": "stderr",
     "output_type": "stream",
     "text": [
      "DEBUG:urllib3.connectionpool:Starting new HTTPS connection (1): www.9biqu.com:443\n",
      "DEBUG:urllib3.connectionpool:https://www.9biqu.com:443 \"GET /biquge/6027/15056952.html HTTP/1.1\" 200 None\n"
     ]
    }
   ],
   "source": [
    "url=novel.GetChapter(0)[\"url\"]\n",
    "raw_res=requests.get(url)\n",
    "if raw_res.status_code==CODE.SUCCESS:\n",
    "    raw_content=BeautifulSoup(raw_res.content)"
   ]
  },
  {
   "cell_type": "code",
   "execution_count": 199,
   "metadata": {},
   "outputs": [
    {
     "data": {
      "text/plain": [
       "<p>\n",
       "                                天才一秒记住本站地址：[\n",
       "                            笔趣阁]\n",
       "                            https://www.9biqu.com最快更新！无广告！<br/><br/>\n",
       "</p>"
      ]
     },
     "execution_count": 199,
     "metadata": {},
     "output_type": "execute_result"
    }
   ],
   "source": [
    "raw_page_content=raw_content.find_all(\"div\",{\"id\":\"content\"})[0].find_all(\"p\")\n",
    "raw_page_content.pop(0)"
   ]
  },
  {
   "cell_type": "code",
   "execution_count": 216,
   "metadata": {},
   "outputs": [
    {
     "data": {
      "text/plain": [
       "['松海市。',\n",
       " '早上七点半，昏暗的房间里，松软的大床上，张元清陡然惊醒，捂着头，弓身如虾。',\n",
       " '头痛的像是要裂开，脑袋里如同嵌了钢针，疼的头皮都在抽搐，以至于产生了幻听、幻觉，脑海里闪过纷乱的画面，耳边尽是嘈杂的、没有意义的噪音。',\n",
       " '张元清知道旧疾复发了。',\n",
       " '颤巍巍的从床上爬起来，拉开床头柜的抽屉，哆哆嗦嗦的摸到药瓶，迫不及待的拧开，倒了五六颗蓝色小药丸，囫囵吞下。',\n",
       " '然后，他把自己摔回床上，大口喘息，忍耐剧痛。',\n",
       " '十几秒后，撕裂灵魂的头痛减弱，继而平复。',\n",
       " '“呼......”张元清如释重负的吐出一口气，满头冷汗。',\n",
       " '他读高中时得了一场怪病，症状是大脑不受控制的回忆起过往的所有记忆，包括被遗忘的垃圾信息；不受控制的采集外界信息，进行分析；大脑对身体的掌控达到一个不可思议的程度。',\n",
       " '幸运的是，这种状态无法持续太久，就会因为身体不堪重负而中断。',\n",
       " '正是因为这种能力，他玩儿似的考上松海大学——全国排名前列的名牌学府。',\n",
       " '张元清把这种状态称为大脑过载，他认为自己可能要进化成超人了，但因为身体无法支撑这种进化，才频频中断。',\n",
       " '当他把这个猜测告诉医生时，医生表示听不懂，但大受震撼，并建议他去楼下的精神科看看。',\n",
       " '总之医院也查不出病因，后来，老妈从国外给他带回来了特效药，病情这才得到控制，只要定期吃药，就不会发作。',\n",
       " '“一准是昨晚没休息好，太累了，都怪江玉饵，大半夜的非要来我房间打游戏......”',\n",
       " '嘴上虽然这么说，但内心却悄然沉重，因为张元清知道，药效的作用开始减弱，自己的病症越来越严重了。',\n",
       " '“以后要加大药量了.......”张元清穿上棉拖鞋，来到窗边，‘刷’的拉开帘子。',\n",
       " '阳光争先恐后的涌进来，把房间填满。',\n",
       " '松海市的四月，春光明媚，迎面而来的晨风清凉舒适。',\n",
       " '“咚咚！”',\n",
       " '这时，敲门声传来，外婆在门外喊道：',\n",
       " '“元子，起床了。”',\n",
       " '“不起！”张元清冷酷无情的拒绝，他想睡回笼觉。',\n",
       " '春光明媚，又是周末，不睡懒觉岂不是浪费人生？',\n",
       " '“给你三分钟，不起床我就泼醒你。”',\n",
       " '外婆更加冷酷无情。',\n",
       " '“知道了知道了.....”张元清立刻服软。',\n",
       " '他知道脾气暴躁的外婆真能干出这事儿。',\n",
       " '在张元清还读小学时，父亲就因车祸去世了，性格刚强的母亲没有再婚，把儿子带回松海定居，丢给了外公外婆照顾。',\n",
       " '自己则一头扎进事业里，成为亲戚们交口称赞的女强人。',\n",
       " '后来母亲自己也买了房，但张元清不喜欢那个空荡荡的大平层，依旧和外公外婆一起住。',\n",
       " '反正老妈每天早出晚归，隔三差五的出差，一心扑在事业上，周末就算不加班，到了饭点也是点外卖。',\n",
       " '对他这个儿子说得最多的，就是“钱够不够用，不够要跟妈妈说”，一个能在经济上无限满足你的女强人母亲，听起来很不错。',\n",
       " '但张元清总是笑眯眯的对母亲说：外婆和舅妈给的零花钱够用。',\n",
       " '嗯，还有小姨。',\n",
       " '昨晚非要来他房间打游戏的女人就是他小姨。',\n",
       " '张元清打了个哈欠，拧开卧室的门把手，来到客厅。',\n",
       " '外婆家里的这套房子，算上公摊面积有一百五十平米，当年卖老房子购置这套新房时，张元清记得每平米四万多。',\n",
       " '六七年过去，现在这片小区的房价涨到一平米11万，翻了近两倍。',\n",
       " '也幸亏外公当年有先见之明，换成之前的老房子，张元清就只能睡客厅了，毕竟现在长大了，不能再跟小姨睡了。',\n",
       " '客厅边的长条餐桌上，害他头疼的罪魁祸首‘咕咕咕’的喝着粥，粉色的拖鞋在桌底翘啊翘。',\n",
       " '她五官精致漂亮，圆润的鹅蛋脸看起来颇为甜美，右眼角有一颗泪痣。',\n",
       " '刚起床的缘故，蓬松凌乱的大波浪披散着，让她多了几分慵懒妩媚。',\n",
       " '小姨叫江玉饵，比他大四岁。',\n",
       " '看到张元清出来，小姨舔了一口嘴边的粥，惊讶道：',\n",
       " '“呦，起这么早，这不像你的风格。”',\n",
       " '“你妈干的好事。”',\n",
       " '“你怎么骂人呢。”',\n",
       " '“我只是实话实说。”',\n",
       " '张元清审视着小姨如花似玉的漂亮脸蛋，精神抖擞，明媚动人。',\n",
       " '都说黑夜不会亏待熬夜的人，它会赐你黑眼圈，但这个定律在眼前的女人身上似乎不管用。',\n",
       " '厨房里的外婆听到动静，探出头看了看，片刻后，端着一碗粥出来。',\n",
       " '外婆乌发中夹杂银丝，眼神很锐利，一看就是那种脾气不好的老太太。',\n",
       " '虽然松弛的皮肤和浅浅的皱纹夺走了她的风华，但依稀能看出年轻时拥有不错的颜值。',\n",
       " '张元清接过外婆递来的粥，咕噜噜灌了一口，说：',\n",
       " '“外公呢？”',\n",
       " '“出去遛弯了。”外婆说。',\n",
       " '外公是退休老刑警，即使年纪大了，生活依然很规律，每晚十点必睡，早上六点就醒。',\n",
       " '漂亮小姨喝着粥，笑嘻嘻道：',\n",
       " '“吃完早饭，姨带你去逛商场买衣服。”',\n",
       " '你有这么好心？张元清正要答应，身边的外婆充满杀气的横他一眼：',\n",
       " '“你敢去就打断狗腿。”',\n",
       " '“妈你怎么这样。”小姨一脸婊气的说：“我只是想给元子买几件春季装，您就不乐意了？外甥虽然有个外字，但也是亲的呀～”',\n",
       " '外婆一力破万法，“你也想被打断狗腿？”',\n",
       " '小姨撇撇嘴，低头喝粥。',\n",
       " '张元清一听母女俩的博弈，就知道外婆一准儿是又给小姨安排相亲了，古灵精怪的小姨则想拉他去搅浑水。',\n",
       " '以往都是这么干的，带着外甥去相亲，坐几分钟，社交牛逼症的外甥就会把相亲对象搞定，两个男人相谈甚欢，从民生大计聊到世界格局，全程没她什么事。',\n",
       " '她只要喝着饮料玩手机就行了，相亲对象还会觉得自己在美人面前展现出了足够的社会阅历和见识，从而感到高兴，自我感觉良好。',\n",
       " '江玉饵从小就精致可爱，是街坊邻居们夸赞的对象，颜值高，甜美乖巧，很讨长辈喜欢。',\n",
       " '这么漂亮的闺女，外婆当然要严防死守，读初中时就耳提面命不准早恋，不准和男同学出去玩。',\n",
       " '小女儿果然没让她失望，直到大学毕业也没交过男朋友，可进了社会，尤其是年初过了25岁生日后，外婆就有些坐不住了。',\n",
       " '心说我只是不让你早恋，没让你当剩女啊，女人能有几年青春？',\n",
       " '于是召集老姐妹们，五湖四海的搜罗青年才俊的资料，为女儿张罗着相亲。',\n",
       " '“外婆啊，她这摆明了还不想谈对象，强扭的瓜不甜。”张元清一边啃包子，一边毛遂自荐道：',\n",
       " '“您要不替我张罗一下相亲？我这颗瓜可甜了。”',\n",
       " '外婆怒道：“你还小，急什么。大学里都是女同学，自己不会找？再捣乱小心我揍你。”',\n",
       " '外婆是南方女人，但脾气半点都不温婉，特别火爆。',\n",
       " '就算是张元清那个事业女强人的母亲，也不敢顶撞外婆。',\n",
       " '我长大了好吧，都做了好几年的手艺人了.......张元清心里嘀咕。',\n",
       " '吃完早饭，小姨在外婆强势要求下，回房间换衣服化妆，外出相亲。',\n",
       " '小姨化了淡淡的妆，这让她看起来愈发的明艳动人。',\n",
       " '蓬松的圆领针织衫搭配一件长款外套，浅色窄口牛仔裤包裹两条大长腿，匀称圆润。窄口裤脚收在黑色马丁靴里。',\n",
       " '森系简约风格的打扮，不妖艳不浮华，又特别精致。',\n",
       " '小姨朝他抛了一个“你懂的”小眼神，拎着包包，扭着小腰出门：',\n",
       " '“妈，我出去相亲啦。”',\n",
       " '张元清回到房间，不疾不徐的换上黑色T恤、冲锋衣，穿上跑鞋。',\n",
       " '隔了几分钟，拉开卧室的门。',\n",
       " '外婆在客厅里打扫卫生，见他出来，停下手头的工作，默默看着他。',\n",
       " '张元清学着小姨的语气：',\n",
       " '“妈，我也出去相亲啦。”',\n",
       " '“滚回来。”外婆扬起扫帚，威胁道：“敢迈出这个门，狗腿打断。”',\n",
       " '“好的！”张元清从善如流的返回卧室。',\n",
       " '坐在书桌边，他捧着手机给小姨发了条信息：',\n",
       " '“出师未捷身先死，长使英雄泪满襟。”',\n",
       " '“说人话！”',\n",
       " '小姨应该在开车，回复的内容言简意赅。',\n",
       " '“我被外婆拦在家里了，你还是自己去相亲吧。”',\n",
       " '小姨发来一条语音。',\n",
       " '张元清点开，扬声器里响起江玉饵气呼呼的声音：',\n",
       " '“要你何用！！”',\n",
       " '小姨撤回了一条语音，接着发来另一条，这次换了副语气，娇滴滴的撒娇卖萌：',\n",
       " '“好外甥，快来嘛，小姨最疼你了，Mua～”',\n",
       " '呵，女人！',\n",
       " '撒个娇卖个萌就想让我触外婆的逆鳞？至少也得发个红包啊。',\n",
       " '这时，略显刺耳的铃声传来，张元清来到客厅，在外婆的注视下，按下楼宇对讲的通话按钮，道：',\n",
       " '“哪位！”',\n",
       " '“快递。”',\n",
       " '扬声器里传来声音。',\n",
       " '张元清按下开门键，隔了两三分钟，穿着制服的快递小哥乘电梯上楼，怀里抱着一个包裹：',\n",
       " '“是张元清吗。”',\n",
       " '“是我。”',\n",
       " '我没有网购啊......他一脸困惑的签收，看了一眼包裹信息，包裹没写寄件人，但地址是隔壁江南省杭城。',\n",
       " '他返回房间，从书桌抽屉里找出裁纸刀，打开包裹。',\n",
       " '里面是防摔气垫包裹着一张黑色的卡片，一封黄皮信件。',\n",
       " '张元清拿起身份证大小的黑色卡片，材质似乎是金属，但触手极为温润，卡片做的非常精美，边缘是浅浅的银色云纹，中央一轮黑色圆月。',\n",
       " '黑色圆月印的很精致，表面不规则的斑块清晰可见。',\n",
       " '什么东西？怀着疑惑的心情，他拆开了信封，展开了信件。',\n",
       " '“元子，我得到了一件很有趣的东西，曾以为它能改变我的人生，可我能力有限，无法驾驭它。我觉得，如果是你的话，应该不成问题。',\n",
       " '“兄弟一场，这是我送你的礼物。',\n",
       " '“雷一兵！”',\n",
       " '.......',\n",
       " 'ps：18岁新人作者，求支持，谢谢！！']"
      ]
     },
     "execution_count": 216,
     "metadata": {},
     "output_type": "execute_result"
    }
   ],
   "source": [
    "list(map(lambda x:x.replace(\"一秒记住www.9biqu.com\",\"\").strip() ,list(map(lambda x:x.contents[0].strip(),raw_page_content))))"
   ]
  },
  {
   "cell_type": "code",
   "execution_count": 183,
   "metadata": {},
   "outputs": [],
   "source": [
    "biquge=\"https://www.9biqu.com/\""
   ]
  },
  {
   "cell_type": "code",
   "execution_count": 184,
   "metadata": {},
   "outputs": [],
   "source": [
    "biquge=\"www.9biqu.com/search?keyword={}\"\n",
    "query_path=biquge.format(urllib.parse.quote(novel_name))"
   ]
  },
  {
   "cell_type": "code",
   "execution_count": 26,
   "metadata": {},
   "outputs": [],
   "source": [
    "def UrlRipper(url,type=\"https\"):\n",
    "    if type==\"https\":\n",
    "        return \"https://\"+url"
   ]
  },
  {
   "cell_type": "code",
   "execution_count": 29,
   "metadata": {},
   "outputs": [],
   "source": [
    "page=requests.get(UrlRipper(query_path))"
   ]
  },
  {
   "cell_type": "code",
   "execution_count": 30,
   "metadata": {},
   "outputs": [
    {
     "data": {
      "text/plain": [
       "'https://www.9biqu.com/search?keyword=%E7%81%B5%E5%A2%83%E8%A1%8C%E8%80%85'"
      ]
     },
     "execution_count": 30,
     "metadata": {},
     "output_type": "execute_result"
    }
   ],
   "source": [
    "UrlRipper(query_path)"
   ]
  },
  {
   "cell_type": "code",
   "execution_count": 31,
   "metadata": {},
   "outputs": [],
   "source": [
    "soup=BeautifulSoup(page.content)"
   ]
  },
  {
   "cell_type": "code",
   "execution_count": 37,
   "metadata": {},
   "outputs": [],
   "source": [
    "data=soup.find(\"div\",{\"id\":\"main\"})\n",
    "data.a.attrs.get(\"href\")"
   ]
  },
  {
   "cell_type": "code",
   "execution_count": null,
   "metadata": {},
   "outputs": [],
   "source": [
    "class NovelFinder:\n",
    "    def __init__(self) -> None:\n",
    "        searchlist=[\"https://www.9biqu.com/search?keyword={0}\"]"
   ]
  }
 ],
 "metadata": {
  "kernelspec": {
   "display_name": "Python 3.9.5 ('base')",
   "language": "python",
   "name": "python3"
  },
  "language_info": {
   "codemirror_mode": {
    "name": "ipython",
    "version": 3
   },
   "file_extension": ".py",
   "mimetype": "text/x-python",
   "name": "python",
   "nbconvert_exporter": "python",
   "pygments_lexer": "ipython3",
   "version": "3.9.5"
  },
  "orig_nbformat": 4,
  "vscode": {
   "interpreter": {
    "hash": "1a26ff81baee3945bddb7944f70854e7c792d5b23b0b88a598fb392c55bb35d0"
   }
  }
 },
 "nbformat": 4,
 "nbformat_minor": 2
}
